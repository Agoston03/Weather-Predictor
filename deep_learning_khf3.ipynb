{
  "nbformat": 4,
  "nbformat_minor": 0,
  "metadata": {
    "colab": {
      "provenance": [],
      "gpuType": "T4"
    },
    "kernelspec": {
      "name": "python3",
      "display_name": "Python 3"
    },
    "language_info": {
      "name": "python"
    },
    "accelerator": "GPU"
  },
  "cells": [
    {
      "cell_type": "markdown",
      "source": [
        "### Abstract"
      ],
      "metadata": {
        "id": "qUsrPVtVBE5j"
      }
    },
    {
      "cell_type": "markdown",
      "source": [
        "I used the links below to get familiar with how to approach this task."
      ],
      "metadata": {
        "id": "_gwrjgxq9qzj"
      }
    },
    {
      "cell_type": "markdown",
      "source": [
        "https://dev.meteostat.net/python/#example\n",
        "\n",
        "https://www.anamind.com/anamind-blog/how-much-data-is-required-for-forecasting/"
      ],
      "metadata": {
        "id": "Y1ec8IG9BJ3G"
      }
    },
    {
      "cell_type": "markdown",
      "source": [
        "### Setup"
      ],
      "metadata": {
        "id": "5dsQAtvk82EI"
      }
    },
    {
      "cell_type": "markdown",
      "source": [
        "In this section I download the Meteostat library which provides simple access to open weather and climate data"
      ],
      "metadata": {
        "id": "R3OXjVTa9Zou"
      }
    },
    {
      "cell_type": "code",
      "execution_count": null,
      "metadata": {
        "colab": {
          "base_uri": "https://localhost:8080/"
        },
        "id": "OjnXsATI69iL",
        "outputId": "1320913a-8ccf-4f2a-a8f4-c6f49be5a7f2"
      },
      "outputs": [
        {
          "output_type": "stream",
          "name": "stdout",
          "text": [
            "Collecting meteostat\n",
            "  Downloading meteostat-1.6.8-py3-none-any.whl.metadata (4.6 kB)\n",
            "Requirement already satisfied: pandas>=1.1 in /usr/local/lib/python3.10/dist-packages (from meteostat) (2.2.2)\n",
            "Requirement already satisfied: pytz in /usr/local/lib/python3.10/dist-packages (from meteostat) (2024.2)\n",
            "Requirement already satisfied: numpy in /usr/local/lib/python3.10/dist-packages (from meteostat) (1.26.4)\n",
            "Requirement already satisfied: python-dateutil>=2.8.2 in /usr/local/lib/python3.10/dist-packages (from pandas>=1.1->meteostat) (2.8.2)\n",
            "Requirement already satisfied: tzdata>=2022.7 in /usr/local/lib/python3.10/dist-packages (from pandas>=1.1->meteostat) (2024.2)\n",
            "Requirement already satisfied: six>=1.5 in /usr/local/lib/python3.10/dist-packages (from python-dateutil>=2.8.2->pandas>=1.1->meteostat) (1.16.0)\n",
            "Downloading meteostat-1.6.8-py3-none-any.whl (31 kB)\n",
            "Installing collected packages: meteostat\n",
            "Successfully installed meteostat-1.6.8\n"
          ]
        }
      ],
      "source": [
        "!pip install meteostat"
      ]
    },
    {
      "cell_type": "markdown",
      "source": [
        "In this code block I import the most important libraries."
      ],
      "metadata": {
        "id": "xDV72y8P9qaV"
      }
    },
    {
      "cell_type": "code",
      "source": [
        "import numpy as np\n",
        "import pandas as pd\n",
        "from pandas import  DateOffset\n",
        "from sklearn import preprocessing\n",
        "\n",
        "import keras\n",
        "from tensorflow.keras.models import Sequential\n",
        "from tensorflow.keras.layers import LSTM, Dense, Dropout\n",
        "from tensorflow.keras.optimizers import Adam\n",
        "from tensorflow.keras.callbacks import EarlyStopping, ModelCheckpoint\n",
        "\n",
        "from datetime import datetime\n",
        "from meteostat import Point, Daily\n",
        "\n",
        "import matplotlib.pyplot as plt"
      ],
      "metadata": {
        "id": "PuVSlsQ19qFh"
      },
      "execution_count": null,
      "outputs": []
    },
    {
      "cell_type": "markdown",
      "source": [
        "### Load and prepare dataset"
      ],
      "metadata": {
        "id": "tOh2D5Gw-Tod"
      }
    },
    {
      "cell_type": "markdown",
      "source": [
        "Downloading the dataset."
      ],
      "metadata": {
        "id": "Webz1ir5-1jd"
      }
    },
    {
      "cell_type": "code",
      "source": [
        "# Defining the begining and the end of the dataset\n",
        "end_date = datetime(2024, 10, 29)\n",
        "start_date = end_date - DateOffset(years=2)\n",
        "\n",
        "# Getting the location of Budapest\n",
        "budapest = Point(47.4979, 19.0402)\n",
        "\n",
        "# Getting the data\n",
        "data = Daily(budapest, start_date, end_date)\n",
        "\n",
        "# It returns a Pandas dataframe\n",
        "data = data.fetch()\n",
        "\n",
        "print(data.head())\n",
        "print(f'\\nNumber of samples: {len(data)}')\n",
        "print(f'Number of columns: {len(data.columns)}')"
      ],
      "metadata": {
        "colab": {
          "base_uri": "https://localhost:8080/"
        },
        "id": "PNe2I8jA-XrF",
        "outputId": "e86211a0-a886-4815-f378-c444fe17e6b5"
      },
      "execution_count": null,
      "outputs": [
        {
          "output_type": "stream",
          "name": "stderr",
          "text": [
            "FutureWarning: Support for nested sequences for 'parse_dates' in pd.read_csv is deprecated. Combine the desired columns with pd.to_datetime after parsing instead.\n",
            "FutureWarning: Support for nested sequences for 'parse_dates' in pd.read_csv is deprecated. Combine the desired columns with pd.to_datetime after parsing instead.\n",
            "Warning: Cannot load daily/12838.csv.gz from https://bulk.meteostat.net/v2/\n",
            "FutureWarning: Support for nested sequences for 'parse_dates' in pd.read_csv is deprecated. Combine the desired columns with pd.to_datetime after parsing instead.\n",
            "FutureWarning: Support for nested sequences for 'parse_dates' in pd.read_csv is deprecated. Combine the desired columns with pd.to_datetime after parsing instead.\n"
          ]
        },
        {
          "output_type": "stream",
          "name": "stdout",
          "text": [
            "            tavg  tmin  tmax  prcp  snow   wdir  wspd  wpgt    pres  tsun\n",
            "time                                                                     \n",
            "2022-10-29  11.8   9.1  15.2   0.0   NaN  221.0   5.6  18.5  1027.3   NaN\n",
            "2022-10-30  12.6  10.5  16.2   0.0   NaN  277.0   3.6  13.0  1023.8   NaN\n",
            "2022-10-31  11.5   9.3  14.2   0.0   NaN  135.0   4.6  14.8  1023.7   NaN\n",
            "2022-11-01  10.7   8.9  14.1   0.0   NaN   61.0   7.7  20.4  1022.3   NaN\n",
            "2022-11-02  13.0  10.2  17.0   0.1   NaN  294.0   8.4  24.1  1023.1   NaN\n",
            "\n",
            "Number of samples: 732\n",
            "Number of columns: 10\n"
          ]
        }
      ]
    },
    {
      "cell_type": "markdown",
      "source": [
        "Here, I save the filltered dataset to a csv file."
      ],
      "metadata": {
        "id": "3xz4tszG2CWf"
      }
    },
    {
      "cell_type": "code",
      "source": [
        "data.to_csv(\"weather-data.csv\")"
      ],
      "metadata": {
        "id": "4787Gmsm2AoW"
      },
      "execution_count": null,
      "outputs": []
    },
    {
      "cell_type": "markdown",
      "source": [
        "In this code block, I filter all the needed columns for fitting."
      ],
      "metadata": {
        "id": "ncEDC1VIC18t"
      }
    },
    {
      "cell_type": "code",
      "source": [
        "columns = ['tmin', 'tmax']\n",
        "window_size = 7\n",
        "\n",
        "X_data = []\n",
        "Y_data = []\n",
        "\n",
        "for i in range(len(data) - window_size):\n",
        "  X_sample = data[i:i+window_size][columns]\n",
        "  X_sample = (X_sample[columns[0]] + X_sample[columns[1]])/2\n",
        "\n",
        "  Y_sample = data.iloc[i+window_size][columns]\n",
        "  Y_sample = (Y_sample[columns[0]] + Y_sample[columns[1]])/2\n",
        "\n",
        "  X_data.append(X_sample)\n",
        "  Y_data.append(Y_sample)\n",
        "\n",
        "X_data = np.array(X_data)\n",
        "Y_data = np.array(Y_data)\n",
        "\n",
        "print(f'X_data shape: {X_data.shape}')\n",
        "print(f'Y_data shape: {Y_data.shape}')"
      ],
      "metadata": {
        "colab": {
          "base_uri": "https://localhost:8080/"
        },
        "id": "u4z3pEj8C1kV",
        "outputId": "d80ec944-6967-4ac5-c794-2cd4955fb52d"
      },
      "execution_count": null,
      "outputs": [
        {
          "output_type": "stream",
          "name": "stdout",
          "text": [
            "X_data shape: (725, 7)\n",
            "Y_data shape: (725,)\n"
          ]
        }
      ]
    },
    {
      "cell_type": "markdown",
      "source": [
        "In this section I create train, validation and test datasets."
      ],
      "metadata": {
        "id": "3mHM17ik2FOJ"
      }
    },
    {
      "cell_type": "code",
      "source": [
        "test_size = 0.1\n",
        "validation_size = 0.1\n",
        "number_of_samples = len(X_data)\n",
        "\n",
        "test_start_idx = int(number_of_samples * (1 - test_size))\n",
        "validation_start_idx = int(number_of_samples * (1 - test_size - validation_size))\n",
        "\n",
        "X_train = X_data[:validation_start_idx]\n",
        "Y_train = Y_data[:validation_start_idx]\n",
        "\n",
        "X_valid = X_data[validation_start_idx:test_start_idx]\n",
        "Y_valid = Y_data[validation_start_idx:test_start_idx]\n",
        "\n",
        "X_test = X_data[test_start_idx:]\n",
        "Y_test = Y_data[test_start_idx:]\n",
        "\n",
        "\n",
        "scaler = preprocessing.StandardScaler().fit(X_train)\n",
        "X_train = scaler.transform(X_train)\n",
        "X_valid = scaler.transform(X_valid)\n",
        "X_test = scaler.transform(X_test)\n",
        "\n",
        "print(f'{X_train.shape}, {Y_train.shape}')\n",
        "print(f'{X_valid.shape}, {Y_valid.shape}')\n",
        "print(f'{X_test.shape}, {Y_test.shape}')"
      ],
      "metadata": {
        "colab": {
          "base_uri": "https://localhost:8080/"
        },
        "id": "APq3htkG2LG7",
        "outputId": "a984cc2b-f296-478b-cef8-d94d04903c29"
      },
      "execution_count": null,
      "outputs": [
        {
          "output_type": "stream",
          "name": "stdout",
          "text": [
            "(580, 7), (580,)\n",
            "(72, 7), (72,)\n",
            "(73, 7), (73,)\n"
          ]
        }
      ]
    },
    {
      "cell_type": "markdown",
      "source": [
        "### Defining and fitting the model"
      ],
      "metadata": {
        "id": "QZpKgDsbHRfm"
      }
    },
    {
      "cell_type": "markdown",
      "source": [
        "In this section, I create the model. By using multiple LSTM layers, the model can capture complex dependencies and temporal patterns in the data over varying time scales, which is crucial for capturing both short-term and long-term weather patterns.This model is a neural network using stacked Long Short-Term Memory (LSTM) layers, ideal for time-series forecasting, such as predicting weather. The architecture includes three LSTM layers with progressively fewer units (64, 32, and 16) to capture complex temporal patterns, along with Dropout layers to reduce overfitting. A final Dense layer outputs a single continuous value, suited for regression tasks like forecasting temperature or humidity. Compiled with mean squared error loss and mean absolute error as a metric, the model is tuned for accurate continuous predictions."
      ],
      "metadata": {
        "id": "ZbcBLIW8HVsC"
      }
    },
    {
      "cell_type": "code",
      "source": [
        "model = keras.Sequential()\n",
        "model.add(LSTM(units=64, return_sequences=True,  input_shape=(X_train.shape[1], 1)))\n",
        "model.add(Dropout(0.2))\n",
        "\n",
        "model.add(LSTM(units=32, return_sequences=True))\n",
        "model.add(Dropout(0.2))\n",
        "\n",
        "model.add(LSTM(units=16, return_sequences=False))\n",
        "model.add(Dropout(0.2))\n",
        "\n",
        "model.add(Dense(units=1, activation=\"linear\"))\n",
        "\n",
        "model.compile(optimizer=Adam(learning_rate=0.001),\n",
        "              loss='mse',\n",
        "              metrics=['mae'])\n",
        "\n",
        "model.summary()"
      ],
      "metadata": {
        "colab": {
          "base_uri": "https://localhost:8080/",
          "height": 376
        },
        "id": "_yvdrtmoHVUA",
        "outputId": "c0a99215-ce85-4c08-a5eb-24a7919c0d83"
      },
      "execution_count": null,
      "outputs": [
        {
          "output_type": "stream",
          "name": "stderr",
          "text": [
            "UserWarning: Do not pass an `input_shape`/`input_dim` argument to a layer. When using Sequential models, prefer using an `Input(shape)` object as the first layer in the model instead.\n"
          ]
        },
        {
          "output_type": "display_data",
          "data": {
            "text/plain": [
              "\u001b[1mModel: \"sequential\"\u001b[0m\n"
            ],
            "text/html": [
              "<pre style=\"white-space:pre;overflow-x:auto;line-height:normal;font-family:Menlo,'DejaVu Sans Mono',consolas,'Courier New',monospace\"><span style=\"font-weight: bold\">Model: \"sequential\"</span>\n",
              "</pre>\n"
            ]
          },
          "metadata": {}
        },
        {
          "output_type": "display_data",
          "data": {
            "text/plain": [
              "┏━━━━━━━━━━━━━━━━━━━━━━━━━━━━━━━━━━━━━━┳━━━━━━━━━━━━━━━━━━━━━━━━━━━━━┳━━━━━━━━━━━━━━━━━┓\n",
              "┃\u001b[1m \u001b[0m\u001b[1mLayer (type)                        \u001b[0m\u001b[1m \u001b[0m┃\u001b[1m \u001b[0m\u001b[1mOutput Shape               \u001b[0m\u001b[1m \u001b[0m┃\u001b[1m \u001b[0m\u001b[1m        Param #\u001b[0m\u001b[1m \u001b[0m┃\n",
              "┡━━━━━━━━━━━━━━━━━━━━━━━━━━━━━━━━━━━━━━╇━━━━━━━━━━━━━━━━━━━━━━━━━━━━━╇━━━━━━━━━━━━━━━━━┩\n",
              "│ lstm (\u001b[38;5;33mLSTM\u001b[0m)                          │ (\u001b[38;5;45mNone\u001b[0m, \u001b[38;5;34m7\u001b[0m, \u001b[38;5;34m64\u001b[0m)               │          \u001b[38;5;34m16,896\u001b[0m │\n",
              "├──────────────────────────────────────┼─────────────────────────────┼─────────────────┤\n",
              "│ dropout (\u001b[38;5;33mDropout\u001b[0m)                    │ (\u001b[38;5;45mNone\u001b[0m, \u001b[38;5;34m7\u001b[0m, \u001b[38;5;34m64\u001b[0m)               │               \u001b[38;5;34m0\u001b[0m │\n",
              "├──────────────────────────────────────┼─────────────────────────────┼─────────────────┤\n",
              "│ lstm_1 (\u001b[38;5;33mLSTM\u001b[0m)                        │ (\u001b[38;5;45mNone\u001b[0m, \u001b[38;5;34m7\u001b[0m, \u001b[38;5;34m32\u001b[0m)               │          \u001b[38;5;34m12,416\u001b[0m │\n",
              "├──────────────────────────────────────┼─────────────────────────────┼─────────────────┤\n",
              "│ dropout_1 (\u001b[38;5;33mDropout\u001b[0m)                  │ (\u001b[38;5;45mNone\u001b[0m, \u001b[38;5;34m7\u001b[0m, \u001b[38;5;34m32\u001b[0m)               │               \u001b[38;5;34m0\u001b[0m │\n",
              "├──────────────────────────────────────┼─────────────────────────────┼─────────────────┤\n",
              "│ lstm_2 (\u001b[38;5;33mLSTM\u001b[0m)                        │ (\u001b[38;5;45mNone\u001b[0m, \u001b[38;5;34m16\u001b[0m)                  │           \u001b[38;5;34m3,136\u001b[0m │\n",
              "├──────────────────────────────────────┼─────────────────────────────┼─────────────────┤\n",
              "│ dropout_2 (\u001b[38;5;33mDropout\u001b[0m)                  │ (\u001b[38;5;45mNone\u001b[0m, \u001b[38;5;34m16\u001b[0m)                  │               \u001b[38;5;34m0\u001b[0m │\n",
              "├──────────────────────────────────────┼─────────────────────────────┼─────────────────┤\n",
              "│ dense (\u001b[38;5;33mDense\u001b[0m)                        │ (\u001b[38;5;45mNone\u001b[0m, \u001b[38;5;34m1\u001b[0m)                   │              \u001b[38;5;34m17\u001b[0m │\n",
              "└──────────────────────────────────────┴─────────────────────────────┴─────────────────┘\n"
            ],
            "text/html": [
              "<pre style=\"white-space:pre;overflow-x:auto;line-height:normal;font-family:Menlo,'DejaVu Sans Mono',consolas,'Courier New',monospace\">┏━━━━━━━━━━━━━━━━━━━━━━━━━━━━━━━━━━━━━━┳━━━━━━━━━━━━━━━━━━━━━━━━━━━━━┳━━━━━━━━━━━━━━━━━┓\n",
              "┃<span style=\"font-weight: bold\"> Layer (type)                         </span>┃<span style=\"font-weight: bold\"> Output Shape                </span>┃<span style=\"font-weight: bold\">         Param # </span>┃\n",
              "┡━━━━━━━━━━━━━━━━━━━━━━━━━━━━━━━━━━━━━━╇━━━━━━━━━━━━━━━━━━━━━━━━━━━━━╇━━━━━━━━━━━━━━━━━┩\n",
              "│ lstm (<span style=\"color: #0087ff; text-decoration-color: #0087ff\">LSTM</span>)                          │ (<span style=\"color: #00d7ff; text-decoration-color: #00d7ff\">None</span>, <span style=\"color: #00af00; text-decoration-color: #00af00\">7</span>, <span style=\"color: #00af00; text-decoration-color: #00af00\">64</span>)               │          <span style=\"color: #00af00; text-decoration-color: #00af00\">16,896</span> │\n",
              "├──────────────────────────────────────┼─────────────────────────────┼─────────────────┤\n",
              "│ dropout (<span style=\"color: #0087ff; text-decoration-color: #0087ff\">Dropout</span>)                    │ (<span style=\"color: #00d7ff; text-decoration-color: #00d7ff\">None</span>, <span style=\"color: #00af00; text-decoration-color: #00af00\">7</span>, <span style=\"color: #00af00; text-decoration-color: #00af00\">64</span>)               │               <span style=\"color: #00af00; text-decoration-color: #00af00\">0</span> │\n",
              "├──────────────────────────────────────┼─────────────────────────────┼─────────────────┤\n",
              "│ lstm_1 (<span style=\"color: #0087ff; text-decoration-color: #0087ff\">LSTM</span>)                        │ (<span style=\"color: #00d7ff; text-decoration-color: #00d7ff\">None</span>, <span style=\"color: #00af00; text-decoration-color: #00af00\">7</span>, <span style=\"color: #00af00; text-decoration-color: #00af00\">32</span>)               │          <span style=\"color: #00af00; text-decoration-color: #00af00\">12,416</span> │\n",
              "├──────────────────────────────────────┼─────────────────────────────┼─────────────────┤\n",
              "│ dropout_1 (<span style=\"color: #0087ff; text-decoration-color: #0087ff\">Dropout</span>)                  │ (<span style=\"color: #00d7ff; text-decoration-color: #00d7ff\">None</span>, <span style=\"color: #00af00; text-decoration-color: #00af00\">7</span>, <span style=\"color: #00af00; text-decoration-color: #00af00\">32</span>)               │               <span style=\"color: #00af00; text-decoration-color: #00af00\">0</span> │\n",
              "├──────────────────────────────────────┼─────────────────────────────┼─────────────────┤\n",
              "│ lstm_2 (<span style=\"color: #0087ff; text-decoration-color: #0087ff\">LSTM</span>)                        │ (<span style=\"color: #00d7ff; text-decoration-color: #00d7ff\">None</span>, <span style=\"color: #00af00; text-decoration-color: #00af00\">16</span>)                  │           <span style=\"color: #00af00; text-decoration-color: #00af00\">3,136</span> │\n",
              "├──────────────────────────────────────┼─────────────────────────────┼─────────────────┤\n",
              "│ dropout_2 (<span style=\"color: #0087ff; text-decoration-color: #0087ff\">Dropout</span>)                  │ (<span style=\"color: #00d7ff; text-decoration-color: #00d7ff\">None</span>, <span style=\"color: #00af00; text-decoration-color: #00af00\">16</span>)                  │               <span style=\"color: #00af00; text-decoration-color: #00af00\">0</span> │\n",
              "├──────────────────────────────────────┼─────────────────────────────┼─────────────────┤\n",
              "│ dense (<span style=\"color: #0087ff; text-decoration-color: #0087ff\">Dense</span>)                        │ (<span style=\"color: #00d7ff; text-decoration-color: #00d7ff\">None</span>, <span style=\"color: #00af00; text-decoration-color: #00af00\">1</span>)                   │              <span style=\"color: #00af00; text-decoration-color: #00af00\">17</span> │\n",
              "└──────────────────────────────────────┴─────────────────────────────┴─────────────────┘\n",
              "</pre>\n"
            ]
          },
          "metadata": {}
        },
        {
          "output_type": "display_data",
          "data": {
            "text/plain": [
              "\u001b[1m Total params: \u001b[0m\u001b[38;5;34m32,465\u001b[0m (126.82 KB)\n"
            ],
            "text/html": [
              "<pre style=\"white-space:pre;overflow-x:auto;line-height:normal;font-family:Menlo,'DejaVu Sans Mono',consolas,'Courier New',monospace\"><span style=\"font-weight: bold\"> Total params: </span><span style=\"color: #00af00; text-decoration-color: #00af00\">32,465</span> (126.82 KB)\n",
              "</pre>\n"
            ]
          },
          "metadata": {}
        },
        {
          "output_type": "display_data",
          "data": {
            "text/plain": [
              "\u001b[1m Trainable params: \u001b[0m\u001b[38;5;34m32,465\u001b[0m (126.82 KB)\n"
            ],
            "text/html": [
              "<pre style=\"white-space:pre;overflow-x:auto;line-height:normal;font-family:Menlo,'DejaVu Sans Mono',consolas,'Courier New',monospace\"><span style=\"font-weight: bold\"> Trainable params: </span><span style=\"color: #00af00; text-decoration-color: #00af00\">32,465</span> (126.82 KB)\n",
              "</pre>\n"
            ]
          },
          "metadata": {}
        },
        {
          "output_type": "display_data",
          "data": {
            "text/plain": [
              "\u001b[1m Non-trainable params: \u001b[0m\u001b[38;5;34m0\u001b[0m (0.00 B)\n"
            ],
            "text/html": [
              "<pre style=\"white-space:pre;overflow-x:auto;line-height:normal;font-family:Menlo,'DejaVu Sans Mono',consolas,'Courier New',monospace\"><span style=\"font-weight: bold\"> Non-trainable params: </span><span style=\"color: #00af00; text-decoration-color: #00af00\">0</span> (0.00 B)\n",
              "</pre>\n"
            ]
          },
          "metadata": {}
        }
      ]
    },
    {
      "cell_type": "markdown",
      "source": [
        "Defining callbacks for the fitting process."
      ],
      "metadata": {
        "id": "4T-Vj9Gi9G7S"
      }
    },
    {
      "cell_type": "code",
      "source": [
        "checkpointer = ModelCheckpoint(filepath='weights.keras', save_best_only=True, verbose=1)\n",
        "early_stopping = EarlyStopping(patience=10, verbose=1)"
      ],
      "metadata": {
        "id": "TqzKJ_bv8mqi"
      },
      "execution_count": null,
      "outputs": []
    },
    {
      "cell_type": "markdown",
      "source": [
        "In this code block, I fit the model, choosing a small batch size to achieve a more precise fitting process."
      ],
      "metadata": {
        "id": "qQLlZ3089hrq"
      }
    },
    {
      "cell_type": "code",
      "source": [
        "history = model.fit(X_train, Y_train,\n",
        "          epochs=55,\n",
        "          batch_size=16,\n",
        "          validation_data=(X_valid, Y_valid),\n",
        "          callbacks = [early_stopping, checkpointer],\n",
        "          verbose=2,\n",
        "          shuffle=True)"
      ],
      "metadata": {
        "colab": {
          "base_uri": "https://localhost:8080/"
        },
        "id": "9eWUgtZj8QF5",
        "outputId": "582dc419-f502-4476-e0ae-f05d0c532767"
      },
      "execution_count": null,
      "outputs": [
        {
          "output_type": "stream",
          "name": "stdout",
          "text": [
            "Epoch 1/55\n",
            "\n",
            "Epoch 1: val_loss improved from inf to 414.77444, saving model to weights.keras\n",
            "37/37 - 14s - 385ms/step - loss: 178.7995 - mae: 11.3987 - val_loss: 414.7744 - val_mae: 20.1580\n",
            "Epoch 2/55\n",
            "\n",
            "Epoch 2: val_loss improved from 414.77444 to 347.86243, saving model to weights.keras\n",
            "37/37 - 2s - 63ms/step - loss: 114.9106 - mae: 8.6755 - val_loss: 347.8624 - val_mae: 18.4227\n",
            "Epoch 3/55\n",
            "\n",
            "Epoch 3: val_loss improved from 347.86243 to 319.03754, saving model to weights.keras\n",
            "37/37 - 1s - 17ms/step - loss: 93.4727 - mae: 7.6221 - val_loss: 319.0375 - val_mae: 17.6230\n",
            "Epoch 4/55\n",
            "\n",
            "Epoch 4: val_loss improved from 319.03754 to 295.99438, saving model to weights.keras\n",
            "37/37 - 1s - 17ms/step - loss: 84.6708 - mae: 7.1788 - val_loss: 295.9944 - val_mae: 16.9567\n",
            "Epoch 5/55\n",
            "\n",
            "Epoch 5: val_loss improved from 295.99438 to 275.96127, saving model to weights.keras\n",
            "37/37 - 1s - 16ms/step - loss: 76.6351 - mae: 6.8042 - val_loss: 275.9613 - val_mae: 16.3553\n",
            "Epoch 6/55\n",
            "\n",
            "Epoch 6: val_loss improved from 275.96127 to 257.57510, saving model to weights.keras\n",
            "37/37 - 0s - 10ms/step - loss: 71.4687 - mae: 6.5429 - val_loss: 257.5751 - val_mae: 15.7832\n",
            "Epoch 7/55\n",
            "\n",
            "Epoch 7: val_loss improved from 257.57510 to 240.77072, saving model to weights.keras\n",
            "37/37 - 1s - 16ms/step - loss: 65.7541 - mae: 6.2459 - val_loss: 240.7707 - val_mae: 15.2415\n",
            "Epoch 8/55\n",
            "\n",
            "Epoch 8: val_loss improved from 240.77072 to 225.91132, saving model to weights.keras\n",
            "37/37 - 0s - 10ms/step - loss: 60.9542 - mae: 6.0431 - val_loss: 225.9113 - val_mae: 14.7460\n",
            "Epoch 9/55\n",
            "\n",
            "Epoch 9: val_loss improved from 225.91132 to 211.66681, saving model to weights.keras\n",
            "37/37 - 1s - 16ms/step - loss: 56.6806 - mae: 5.7996 - val_loss: 211.6668 - val_mae: 14.2549\n",
            "Epoch 10/55\n",
            "\n",
            "Epoch 10: val_loss improved from 211.66681 to 198.42734, saving model to weights.keras\n",
            "37/37 - 0s - 9ms/step - loss: 54.6646 - mae: 5.7254 - val_loss: 198.4273 - val_mae: 13.7826\n",
            "Epoch 11/55\n",
            "\n",
            "Epoch 11: val_loss improved from 198.42734 to 186.97188, saving model to weights.keras\n",
            "37/37 - 0s - 10ms/step - loss: 49.3214 - mae: 5.3831 - val_loss: 186.9719 - val_mae: 13.3606\n",
            "Epoch 12/55\n",
            "\n",
            "Epoch 12: val_loss improved from 186.97188 to 175.52798, saving model to weights.keras\n",
            "37/37 - 0s - 9ms/step - loss: 46.4413 - mae: 5.1993 - val_loss: 175.5280 - val_mae: 12.9253\n",
            "Epoch 13/55\n",
            "\n",
            "Epoch 13: val_loss improved from 175.52798 to 164.86522, saving model to weights.keras\n",
            "37/37 - 0s - 10ms/step - loss: 43.4441 - mae: 5.0688 - val_loss: 164.8652 - val_mae: 12.5060\n",
            "Epoch 14/55\n",
            "\n",
            "Epoch 14: val_loss improved from 164.86522 to 155.26318, saving model to weights.keras\n",
            "37/37 - 1s - 16ms/step - loss: 40.9564 - mae: 4.9451 - val_loss: 155.2632 - val_mae: 12.1160\n",
            "Epoch 15/55\n",
            "\n",
            "Epoch 15: val_loss improved from 155.26318 to 146.37210, saving model to weights.keras\n",
            "37/37 - 0s - 10ms/step - loss: 39.1531 - mae: 4.8240 - val_loss: 146.3721 - val_mae: 11.7434\n",
            "Epoch 16/55\n",
            "\n",
            "Epoch 16: val_loss improved from 146.37210 to 136.94016, saving model to weights.keras\n",
            "37/37 - 1s - 16ms/step - loss: 35.6165 - mae: 4.6113 - val_loss: 136.9402 - val_mae: 11.3347\n",
            "Epoch 17/55\n",
            "\n",
            "Epoch 17: val_loss improved from 136.94016 to 128.97923, saving model to weights.keras\n",
            "37/37 - 1s - 22ms/step - loss: 33.0278 - mae: 4.4349 - val_loss: 128.9792 - val_mae: 10.9780\n",
            "Epoch 18/55\n",
            "\n",
            "Epoch 18: val_loss improved from 128.97923 to 121.47076, saving model to weights.keras\n",
            "37/37 - 1s - 17ms/step - loss: 31.1445 - mae: 4.2807 - val_loss: 121.4708 - val_mae: 10.6305\n",
            "Epoch 19/55\n",
            "\n",
            "Epoch 19: val_loss improved from 121.47076 to 114.09647, saving model to weights.keras\n",
            "37/37 - 1s - 15ms/step - loss: 29.8620 - mae: 4.1913 - val_loss: 114.0965 - val_mae: 10.2779\n",
            "Epoch 20/55\n",
            "\n",
            "Epoch 20: val_loss improved from 114.09647 to 107.09731, saving model to weights.keras\n",
            "37/37 - 1s - 17ms/step - loss: 27.9778 - mae: 3.9957 - val_loss: 107.0973 - val_mae: 9.9315\n",
            "Epoch 21/55\n",
            "\n",
            "Epoch 21: val_loss improved from 107.09731 to 100.95722, saving model to weights.keras\n",
            "37/37 - 0s - 11ms/step - loss: 24.3558 - mae: 3.7486 - val_loss: 100.9572 - val_mae: 9.6175\n",
            "Epoch 22/55\n",
            "\n",
            "Epoch 22: val_loss improved from 100.95722 to 94.67459, saving model to weights.keras\n",
            "37/37 - 0s - 9ms/step - loss: 24.6355 - mae: 3.7807 - val_loss: 94.6746 - val_mae: 9.2852\n",
            "Epoch 23/55\n",
            "\n",
            "Epoch 23: val_loss improved from 94.67459 to 89.38023, saving model to weights.keras\n",
            "37/37 - 1s - 17ms/step - loss: 22.3109 - mae: 3.5915 - val_loss: 89.3802 - val_mae: 8.9960\n",
            "Epoch 24/55\n",
            "\n",
            "Epoch 24: val_loss improved from 89.38023 to 84.48607, saving model to weights.keras\n",
            "37/37 - 0s - 9ms/step - loss: 21.6827 - mae: 3.5518 - val_loss: 84.4861 - val_mae: 8.7217\n",
            "Epoch 25/55\n",
            "\n",
            "Epoch 25: val_loss improved from 84.48607 to 79.66634, saving model to weights.keras\n",
            "37/37 - 1s - 17ms/step - loss: 19.2612 - mae: 3.3141 - val_loss: 79.6663 - val_mae: 8.4399\n",
            "Epoch 26/55\n",
            "\n",
            "Epoch 26: val_loss improved from 79.66634 to 75.20435, saving model to weights.keras\n",
            "37/37 - 0s - 10ms/step - loss: 19.3202 - mae: 3.2948 - val_loss: 75.2043 - val_mae: 8.1775\n",
            "Epoch 27/55\n",
            "\n",
            "Epoch 27: val_loss improved from 75.20435 to 70.50219, saving model to weights.keras\n",
            "37/37 - 0s - 10ms/step - loss: 17.5559 - mae: 3.0783 - val_loss: 70.5022 - val_mae: 7.8781\n",
            "Epoch 28/55\n",
            "\n",
            "Epoch 28: val_loss improved from 70.50219 to 66.87788, saving model to weights.keras\n",
            "37/37 - 1s - 17ms/step - loss: 17.0089 - mae: 3.0608 - val_loss: 66.8779 - val_mae: 7.6504\n",
            "Epoch 29/55\n",
            "\n",
            "Epoch 29: val_loss improved from 66.87788 to 63.31237, saving model to weights.keras\n",
            "37/37 - 0s - 10ms/step - loss: 16.4137 - mae: 3.0198 - val_loss: 63.3124 - val_mae: 7.4134\n",
            "Epoch 30/55\n",
            "\n",
            "Epoch 30: val_loss improved from 63.31237 to 59.65525, saving model to weights.keras\n",
            "37/37 - 0s - 10ms/step - loss: 15.8023 - mae: 2.9749 - val_loss: 59.6553 - val_mae: 7.1657\n",
            "Epoch 31/55\n",
            "\n",
            "Epoch 31: val_loss improved from 59.65525 to 56.27308, saving model to weights.keras\n",
            "37/37 - 1s - 17ms/step - loss: 13.7199 - mae: 2.7531 - val_loss: 56.2731 - val_mae: 6.9335\n",
            "Epoch 32/55\n",
            "\n",
            "Epoch 32: val_loss improved from 56.27308 to 53.49027, saving model to weights.keras\n",
            "37/37 - 0s - 10ms/step - loss: 13.0795 - mae: 2.7008 - val_loss: 53.4903 - val_mae: 6.7402\n",
            "Epoch 33/55\n",
            "\n",
            "Epoch 33: val_loss improved from 53.49027 to 50.95298, saving model to weights.keras\n",
            "37/37 - 1s - 17ms/step - loss: 13.3196 - mae: 2.7065 - val_loss: 50.9530 - val_mae: 6.5505\n",
            "Epoch 34/55\n",
            "\n",
            "Epoch 34: val_loss improved from 50.95298 to 47.93371, saving model to weights.keras\n",
            "37/37 - 1s - 16ms/step - loss: 13.0670 - mae: 2.7139 - val_loss: 47.9337 - val_mae: 6.3174\n",
            "Epoch 35/55\n",
            "\n",
            "Epoch 35: val_loss improved from 47.93371 to 45.72517, saving model to weights.keras\n",
            "37/37 - 0s - 10ms/step - loss: 11.9027 - mae: 2.6090 - val_loss: 45.7252 - val_mae: 6.1530\n",
            "Epoch 36/55\n",
            "\n",
            "Epoch 36: val_loss improved from 45.72517 to 43.46106, saving model to weights.keras\n",
            "37/37 - 0s - 10ms/step - loss: 10.6663 - mae: 2.4309 - val_loss: 43.4611 - val_mae: 5.9814\n",
            "Epoch 37/55\n",
            "\n",
            "Epoch 37: val_loss improved from 43.46106 to 41.91936, saving model to weights.keras\n",
            "37/37 - 1s - 21ms/step - loss: 11.7333 - mae: 2.5628 - val_loss: 41.9194 - val_mae: 5.8723\n",
            "Epoch 38/55\n",
            "\n",
            "Epoch 38: val_loss improved from 41.91936 to 39.61588, saving model to weights.keras\n",
            "37/37 - 1s - 34ms/step - loss: 11.4538 - mae: 2.5554 - val_loss: 39.6159 - val_mae: 5.6758\n",
            "Epoch 39/55\n",
            "\n",
            "Epoch 39: val_loss improved from 39.61588 to 37.64153, saving model to weights.keras\n",
            "37/37 - 1s - 18ms/step - loss: 12.2993 - mae: 2.6027 - val_loss: 37.6415 - val_mae: 5.5136\n",
            "Epoch 40/55\n",
            "\n",
            "Epoch 40: val_loss improved from 37.64153 to 35.87399, saving model to weights.keras\n",
            "37/37 - 1s - 28ms/step - loss: 11.1085 - mae: 2.5681 - val_loss: 35.8740 - val_mae: 5.3654\n",
            "Epoch 41/55\n",
            "\n",
            "Epoch 41: val_loss improved from 35.87399 to 34.06184, saving model to weights.keras\n",
            "37/37 - 1s - 28ms/step - loss: 11.2498 - mae: 2.4640 - val_loss: 34.0618 - val_mae: 5.2039\n",
            "Epoch 42/55\n",
            "\n",
            "Epoch 42: val_loss improved from 34.06184 to 32.46040, saving model to weights.keras\n",
            "37/37 - 1s - 31ms/step - loss: 10.0967 - mae: 2.4221 - val_loss: 32.4604 - val_mae: 5.0548\n",
            "Epoch 43/55\n",
            "\n",
            "Epoch 43: val_loss improved from 32.46040 to 31.23274, saving model to weights.keras\n",
            "37/37 - 1s - 25ms/step - loss: 10.3970 - mae: 2.4562 - val_loss: 31.2327 - val_mae: 4.9488\n",
            "Epoch 44/55\n",
            "\n",
            "Epoch 44: val_loss improved from 31.23274 to 30.19141, saving model to weights.keras\n",
            "37/37 - 1s - 26ms/step - loss: 9.7255 - mae: 2.3683 - val_loss: 30.1914 - val_mae: 4.8600\n",
            "Epoch 45/55\n",
            "\n",
            "Epoch 45: val_loss improved from 30.19141 to 28.42539, saving model to weights.keras\n",
            "37/37 - 1s - 22ms/step - loss: 9.2427 - mae: 2.3031 - val_loss: 28.4254 - val_mae: 4.6725\n",
            "Epoch 46/55\n",
            "\n",
            "Epoch 46: val_loss improved from 28.42539 to 27.34451, saving model to weights.keras\n",
            "37/37 - 1s - 38ms/step - loss: 9.7761 - mae: 2.4101 - val_loss: 27.3445 - val_mae: 4.5712\n",
            "Epoch 47/55\n",
            "\n",
            "Epoch 47: val_loss improved from 27.34451 to 26.40277, saving model to weights.keras\n",
            "37/37 - 1s - 23ms/step - loss: 10.4060 - mae: 2.4817 - val_loss: 26.4028 - val_mae: 4.4816\n",
            "Epoch 48/55\n",
            "\n",
            "Epoch 48: val_loss improved from 26.40277 to 25.33383, saving model to weights.keras\n",
            "37/37 - 1s - 21ms/step - loss: 10.0004 - mae: 2.4270 - val_loss: 25.3338 - val_mae: 4.3862\n",
            "Epoch 49/55\n",
            "\n",
            "Epoch 49: val_loss improved from 25.33383 to 24.20188, saving model to weights.keras\n",
            "37/37 - 1s - 19ms/step - loss: 9.6679 - mae: 2.3104 - val_loss: 24.2019 - val_mae: 4.2659\n",
            "Epoch 50/55\n",
            "\n",
            "Epoch 50: val_loss improved from 24.20188 to 22.95558, saving model to weights.keras\n",
            "37/37 - 1s - 21ms/step - loss: 9.0637 - mae: 2.2972 - val_loss: 22.9556 - val_mae: 4.1399\n",
            "Epoch 51/55\n",
            "\n",
            "Epoch 51: val_loss improved from 22.95558 to 22.53090, saving model to weights.keras\n",
            "37/37 - 1s - 19ms/step - loss: 9.8698 - mae: 2.3731 - val_loss: 22.5309 - val_mae: 4.1017\n",
            "Epoch 52/55\n",
            "\n",
            "Epoch 52: val_loss improved from 22.53090 to 21.32394, saving model to weights.keras\n",
            "37/37 - 1s - 31ms/step - loss: 9.7919 - mae: 2.3980 - val_loss: 21.3239 - val_mae: 3.9702\n",
            "Epoch 53/55\n",
            "\n",
            "Epoch 53: val_loss improved from 21.32394 to 20.22323, saving model to weights.keras\n",
            "37/37 - 1s - 21ms/step - loss: 9.2136 - mae: 2.3342 - val_loss: 20.2232 - val_mae: 3.8430\n",
            "Epoch 54/55\n",
            "\n",
            "Epoch 54: val_loss improved from 20.22323 to 19.89890, saving model to weights.keras\n",
            "37/37 - 1s - 26ms/step - loss: 8.7229 - mae: 2.2700 - val_loss: 19.8989 - val_mae: 3.8099\n",
            "Epoch 55/55\n",
            "\n",
            "Epoch 55: val_loss improved from 19.89890 to 18.92742, saving model to weights.keras\n",
            "37/37 - 1s - 28ms/step - loss: 8.9630 - mae: 2.2712 - val_loss: 18.9274 - val_mae: 3.7024\n"
          ]
        }
      ]
    },
    {
      "cell_type": "markdown",
      "source": [
        "Here, I evaluate the fitting."
      ],
      "metadata": {
        "id": "1q7deabp_ueA"
      }
    },
    {
      "cell_type": "code",
      "source": [
        "Y_pred = model.predict(X_test)\n",
        "\n",
        "plt.figure(figsize=(14, 7))\n",
        "plt.plot(Y_test, label='Original values', color='blue')\n",
        "plt.plot(Y_pred, label='Predictions', color='red')\n",
        "plt.title('Model predictions')\n",
        "plt.ylabel('Temperature')\n",
        "plt.xlabel('asd')\n",
        "plt.legend()\n",
        "plt.grid()\n",
        "plt.show()"
      ],
      "metadata": {
        "colab": {
          "base_uri": "https://localhost:8080/",
          "height": 658
        },
        "id": "YrVWre5A-hpo",
        "outputId": "6c0b6a47-dd13-4b3e-fef8-da27b3b66e9a"
      },
      "execution_count": null,
      "outputs": [
        {
          "output_type": "stream",
          "name": "stdout",
          "text": [
            "\u001b[1m3/3\u001b[0m \u001b[32m━━━━━━━━━━━━━━━━━━━━\u001b[0m\u001b[37m\u001b[0m \u001b[1m2s\u001b[0m 337ms/step\n"
          ]
        },
        {
          "output_type": "display_data",
          "data": {
            "text/plain": [
              "<Figure size 1400x700 with 1 Axes>"
            ],
            "image/png": "[encoded data removed]"
          },
          "metadata": {}
        }
      ]
    },
    {
      "cell_type": "markdown",
      "source": [
        "Here, I predict the temperature for nov 6,7 and 8."
      ],
      "metadata": {
        "id": "TghUk8qH9Y88"
      }
    },
    {
      "cell_type": "code",
      "source": [
        "# Prepare input for prediction\n",
        "start = datetime(2024, 10, 30)  # Start date for data fetching\n",
        "end = datetime(2024, 11, 5)     # End date for data fetching\n",
        "budapest = Point(47.4979, 19.0402)  # Coordinates for Budapest\n",
        "\n",
        "# Fetching the daily weather data for Budapest within the specified date range\n",
        "data = Daily(budapest, start, end)\n",
        "data = data.fetch()\n",
        "\n",
        "# Calculate the average temperature for each day by averaging minimum and maximum temperatures\n",
        "input_data = (data['tmin'] + data['tmax']) / 2\n",
        "input_array = np.array(input_data)  # Convert to a NumPy array for processing\n",
        "\n",
        "# Calculate the standard deviation and mean of the entire dataset for normalization\n",
        "std = input_array.std()\n",
        "mean = input_array.mean()\n",
        "\n",
        "# Standardize (normalize) the data by subtracting the mean and dividing by the standard deviation\n",
        "input_array_std = (input_array - mean) / std\n",
        "\n",
        "# Reshape the input data to match the model's expected input shape (1 sample, 7 features)\n",
        "input_array_std = np.array([input_array_std])\n",
        "\n",
        "# Make a prediction for November 6 based on the standardized data\n",
        "prediction_nov6 = model.predict(input_array_std)\n",
        "\n",
        "# Prepare input data for the November 7 prediction\n",
        "# Append the November 6 prediction to the last 6 days of actual data\n",
        "input_array0 = np.append(input_array[-6:], prediction_nov6)\n",
        "\n",
        "# Calculate the mean and standard deviation of the new 7-day sequence (including the prediction)\n",
        "mean0 = input_array0.mean()\n",
        "std0 = input_array0.std()\n",
        "\n",
        "# Standardize the updated 7-day input data\n",
        "input_array_std0 = (input_array0 - mean0) / std0\n",
        "\n",
        "# Reshape the data for the model input (1 sample, 7 features)\n",
        "input_array_std0 = np.array([input_array_std0])\n",
        "\n",
        "# Make a prediction for November 7 using the updated input\n",
        "prediction_nov7 = model.predict(input_array_std0)\n",
        "\n",
        "# Prepare input data for the November 8 prediction\n",
        "# Append the predictions for November 6 and 7 to the last 5 days of actual data\n",
        "input_array1 = np.append(input_array[-5:], [prediction_nov6, prediction_nov7])\n",
        "\n",
        "# Calculate the mean and standard deviation for this new 7-day sequence (including predictions)\n",
        "mean1 = input_array1.mean()\n",
        "std1 = input_array1.std()\n",
        "\n",
        "# Standardize the input for November 8 prediction\n",
        "input_array_std1 = (input_array1 - mean1) / std1\n",
        "\n",
        "# Reshape the data for the model input (1 sample, 7 features)\n",
        "input_array_std1 = np.array([input_array_std1])\n",
        "\n",
        "# Make a prediction for November 8 using the updated input\n",
        "prediction_nov8 = model.predict(input_array_std1)\n",
        "\n",
        "# Print out the predictions for November 6, 7, and 8\n",
        "print(\"Prediction for November 6:\", prediction_nov6)\n",
        "print(\"Prediction for November 7:\", prediction_nov7)\n",
        "print(\"Prediction for November 8:\", prediction_nov8)\n"
      ],
      "metadata": {
        "colab": {
          "base_uri": "https://localhost:8080/"
        },
        "id": "t06MFiVQ_t8W",
        "outputId": "7946aaf3-f180-4064-89fb-a0a280c7016d"
      },
      "execution_count": null,
      "outputs": [
        {
          "output_type": "stream",
          "name": "stdout",
          "text": [
            "\u001b[1m1/1\u001b[0m \u001b[32m━━━━━━━━━━━━━━━━━━━━\u001b[0m\u001b[37m\u001b[0m \u001b[1m0s\u001b[0m 26ms/step\n",
            "\u001b[1m1/1\u001b[0m \u001b[32m━━━━━━━━━━━━━━━━━━━━\u001b[0m\u001b[37m\u001b[0m \u001b[1m0s\u001b[0m 20ms/step\n",
            "\u001b[1m1/1\u001b[0m \u001b[32m━━━━━━━━━━━━━━━━━━━━\u001b[0m\u001b[37m\u001b[0m \u001b[1m0s\u001b[0m 19ms/step\n",
            "Prediction for November 6: [[5.129234]]\n",
            "Prediction for November 7: [[7.72457]]\n",
            "Prediction for November 8: [[14.610555]]\n"
          ]
        }
      ]
    }
  ]
}